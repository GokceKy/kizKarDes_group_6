{
 "cells": [
  {
   "cell_type": "markdown",
   "metadata": {},
   "source": [
    "Youtube API KEY Project"
   ]
  },
  {
   "cell_type": "code",
   "execution_count": 18,
   "metadata": {},
   "outputs": [],
   "source": [
    "from config.config import YOUTUBE_API_KEY\n",
    "from googleapiclient.discovery import build\n",
    "from IPython.display import JSON"
   ]
  },
  {
   "cell_type": "code",
   "execution_count": 19,
   "metadata": {},
   "outputs": [],
   "source": [
    "youtube = build(\n",
    "    \"youtube\",    \n",
    "    \"v3\",        \n",
    "    developerKey=YOUTUBE_API_KEY\n",
    ")\n"
   ]
  },
  {
   "cell_type": "code",
   "execution_count": 20,
   "metadata": {},
   "outputs": [],
   "source": [
    "channel_ids = [\n",
    "    'UClKBd-4xFVodFmK3bZfJAAQ',\n",
    "]\n"
   ]
  },
  {
   "cell_type": "code",
   "execution_count": 21,
   "metadata": {},
   "outputs": [],
   "source": [
    "request = youtube.channels().list(\n",
    "    part=\"snippet,contentDetails,statistics\",\n",
    "    id=\",\".join(channel_ids)\n",
    ")\n"
   ]
  },
  {
   "cell_type": "code",
   "execution_count": 22,
   "metadata": {},
   "outputs": [
    {
     "data": {
      "application/json": {
       "etag": "1upYDw1av-45qeHJq3J9jt2jTxU",
       "items": [
        {
         "contentDetails": {
          "relatedPlaylists": {
           "likes": "",
           "uploads": "UUlKBd-4xFVodFmK3bZfJAAQ"
          }
         },
         "etag": "GkyfQkQvEKYluENDFcer54vNN98",
         "id": "UClKBd-4xFVodFmK3bZfJAAQ",
         "kind": "youtube#channel",
         "snippet": {
          "country": "TR",
          "customUrl": "@buders",
          "description": "Bu kanal Boğaziçili matematik öğretmenleri tarafından ilköğretim, lise ve üniversite seviyesindeki öğrencilerin derslerine yardımcı olmak amacıyla oluşturulan matematik videolarından oluşmaktadır. www.buders.com ve www.bumatematikozelders.com sitelerine ait BUders video oluşumu tarafından bu videolar eklenmektedir. \nSaygılarımızla,\nBUders Ekibi.",
          "localized": {
           "description": "Bu kanal Boğaziçili matematik öğretmenleri tarafından ilköğretim, lise ve üniversite seviyesindeki öğrencilerin derslerine yardımcı olmak amacıyla oluşturulan matematik videolarından oluşmaktadır. www.buders.com ve www.bumatematikozelders.com sitelerine ait BUders video oluşumu tarafından bu videolar eklenmektedir. \nSaygılarımızla,\nBUders Ekibi.",
           "title": "BUders Boğaziçiliden Özel Ders"
          },
          "publishedAt": "2014-07-30T11:47:02Z",
          "thumbnails": {
           "default": {
            "height": 88,
            "url": "https://yt3.ggpht.com/ytc/AIdro_nyk_z9y7hxIR9Dj-P5s4qd2C0GP1AaUJ07QU_2hBJ-1_s=s88-c-k-c0x00ffffff-no-rj",
            "width": 88
           },
           "high": {
            "height": 800,
            "url": "https://yt3.ggpht.com/ytc/AIdro_nyk_z9y7hxIR9Dj-P5s4qd2C0GP1AaUJ07QU_2hBJ-1_s=s800-c-k-c0x00ffffff-no-rj",
            "width": 800
           },
           "medium": {
            "height": 240,
            "url": "https://yt3.ggpht.com/ytc/AIdro_nyk_z9y7hxIR9Dj-P5s4qd2C0GP1AaUJ07QU_2hBJ-1_s=s240-c-k-c0x00ffffff-no-rj",
            "width": 240
           }
          },
          "title": "BUders Boğaziçiliden Özel Ders"
         },
         "statistics": {
          "hiddenSubscriberCount": false,
          "subscriberCount": "236000",
          "videoCount": "5527",
          "viewCount": "244165925"
         }
        }
       ],
       "kind": "youtube#channelListResponse",
       "pageInfo": {
        "resultsPerPage": 5,
        "totalResults": 1
       }
      },
      "text/plain": [
       "<IPython.core.display.JSON object>"
      ]
     },
     "execution_count": 22,
     "metadata": {
      "application/json": {
       "expanded": false,
       "root": "root"
      }
     },
     "output_type": "execute_result"
    }
   ],
   "source": [
    "response = request.execute()\n",
    "\n",
    "\n",
    "JSON(response)"
   ]
  }
 ],
 "metadata": {
  "language_info": {
   "name": "python"
  }
 },
 "nbformat": 4,
 "nbformat_minor": 2
}
